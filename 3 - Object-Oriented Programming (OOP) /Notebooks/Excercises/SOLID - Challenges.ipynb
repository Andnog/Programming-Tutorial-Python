{
 "cells": [
  {
   "cell_type": "markdown",
   "metadata": {
    "id": "gahJgJXvSTI2"
   },
   "source": [
    "___\n",
    "# <font color='#ee6c4d'>**Single Responsibility Principle: Employee Management**</font>\n",
    "\n",
    "## Context:\n",
    "\n",
    "In an employee management system, there is a class called `Employee` that represents employee details. The current implementation violates the Single Responsibility Principle (SRP) as the `Employee` class is responsible for both employee data management and payroll calculations, combining multiple responsibilities into one class.\n",
    "\n",
    "<br>\n",
    "\n",
    "## Instruction:\n",
    "\n",
    "Refactor the `Employee` class to adhere to the Single Responsibility Principle by separating the responsibilities of employee data management and payroll calculations into separate classes.\n",
    "\n",
    "<br>\n",
    "\n",
    "```python\n",
    "class Employee:\n",
    "    def __init__(self, name, position, salary):\n",
    "        self.name = name\n",
    "        self.position = position\n",
    "        self.salary = salary\n",
    "\n",
    "    def update_salary(self, new_salary):\n",
    "        self.salary = new_salary\n",
    "\n",
    "    def calculate_payroll(self):\n",
    "        # Code to calculate payroll based on the salary and position\n",
    "        if self.position == \"Manager\":\n",
    "            return self.salary * 1.5\n",
    "        elif self.position == \"Staff\":\n",
    "            return self.salary * 1.2\n",
    "        else:\n",
    "            return self.salary\n",
    "```\n",
    "\n",
    "## Hints:\n",
    "\n",
    "- The Single Responsibility Principle suggests that a class should have only one reason to change. In this case, the `Employee` class has multiple reasons to change - employee data updates and payroll calculation logic.\n",
    "- Consider creating separate classes for employee data management and payroll calculations, each with a single responsibility.\n",
    "- Use composition to allow the `Employee` class to collaborate with the new classes for specific tasks.\n",
    "- Aim to design classes that are focused, cohesive, and easy to maintain, making it easier to add new features or modify existing functionality in the future."
   ]
  },
  {
   "cell_type": "markdown",
   "metadata": {
    "id": "Z5sDZn4h9NGY"
   },
   "source": [
    "## Solution"
   ]
  },
  {
   "cell_type": "code",
   "execution_count": null,
   "metadata": {
    "colab": {
     "base_uri": "https://localhost:8080/"
    },
    "executionInfo": {
     "elapsed": 157,
     "status": "ok",
     "timestamp": 1689879617003,
     "user": {
      "displayName": "Andrei noguera gil",
      "userId": "00676865675105879181"
     },
     "user_tz": 360
    },
    "id": "AA3jWvDPSLUE",
    "outputId": "587e6bb5-e4ac-434c-8de3-b8cb952cee75"
   },
   "outputs": [],
   "source": []
  },
  {
   "cell_type": "markdown",
   "metadata": {
    "id": "fefFNRRPk9TI"
   },
   "source": [
    "___\n",
    "# <font color='#ee6c4d'>**Single Responsibility Principle: Data Processing and File I/O**</font>\n",
    "\n",
    "## Context:\n",
    "\n",
    "In a data processing application, there is a class called `DataProcessor` responsible for processing data and generating reports. However, the current implementation violates the Single Responsibility Principle (SRP) because the `DataProcessor` class is burdened with both data processing and file I/O operations, making it difficult to maintain and extend.\n",
    "\n",
    "<br>\n",
    "\n",
    "## Instruction:\n",
    "\n",
    "Refactor the `DataProcessor` class to adhere to the Single Responsibility Principle by separating the responsibilities of data processing and file I/O into separate classes.\n",
    "\n",
    "<br>\n",
    "\n",
    "```python\n",
    "class DataProcessor:\n",
    "    def __init__(self, data):\n",
    "        self.data = data\n",
    "\n",
    "    def process_data(self):\n",
    "        # Code to process the data\n",
    "        pass\n",
    "\n",
    "    def generate_report(self):\n",
    "        # Code to generate a report\n",
    "        pass\n",
    "\n",
    "    def save_report_to_file(self, file_name):\n",
    "        # Code to save the report to a file\n",
    "        pass\n",
    "```\n",
    "\n",
    "<br>\n",
    "\n",
    "## Hints:\n",
    "\n",
    "- The Single Responsibility Principle suggests that a class should have only one reason to change. In this case, the `DataProcessor` class has multiple reasons to change - data processing logic, report generation, and file I/O operations.\n",
    "- Consider creating separate classes for data processing, report generation, and file I/O, each with a single responsibility.\n",
    "- Use composition to allow the `DataProcessor` class to collaborate with the new classes for specific tasks.\n",
    "- Aim to design classes that are focused, cohesive, and easy to maintain, making it easier to add new features or modify existing functionality in the future."
   ]
  },
  {
   "cell_type": "markdown",
   "metadata": {
    "id": "VXvt_T0xlTic"
   },
   "source": [
    "## Solution"
   ]
  },
  {
   "cell_type": "code",
   "execution_count": 1,
   "metadata": {
    "executionInfo": {
     "elapsed": 5,
     "status": "ok",
     "timestamp": 1689878366890,
     "user": {
      "displayName": "Andrei noguera gil",
      "userId": "00676865675105879181"
     },
     "user_tz": 360
    },
    "id": "pV3cJxYolTip"
   },
   "outputs": [],
   "source": []
  },
  {
   "cell_type": "markdown",
   "metadata": {
    "id": "xiqkZfMIhj66"
   },
   "source": [
    "___\n",
    "# <font color='#ee6c4d'>**Open-Closed Principle: Extending Shapes**</font>\n",
    "\n",
    "## Context:\n",
    "\n",
    "In a graphics library, there is a class called `Shape` that represents various shapes, such as circles and squares. The current implementation violates the Open-Closed Principle (OCP) because it is not designed to be easily extensible to add new shapes without modifying the existing `Shape` class.\n",
    "\n",
    "<br>\n",
    "\n",
    "## Instruction:\n",
    "\n",
    "Refactor the `Shape` class to adhere to the Open-Closed Principle by making it open for extension to add new shapes without modifying its existing code.\n",
    "\n",
    "<br>\n",
    "\n",
    "```python\n",
    "\n",
    "class Shape:\n",
    "    def __init__(self, shape_type):\n",
    "        self.shape_type = shape_type\n",
    "\n",
    "    def area(self):\n",
    "        if self.shape_type == \"circle\":\n",
    "            # Code to calculate area for a circle\n",
    "            pass\n",
    "        elif self.shape_type == \"square\":\n",
    "            # Code to calculate area for a square\n",
    "            pass\n",
    "        else:\n",
    "            raise ValueError(\"Invalid shape type.\")\n",
    "```\n",
    "\n",
    "<br>\n",
    "\n",
    "## Hints:\n",
    "\n",
    "- The Open-Closed Principle suggests that classes should be open for extension but closed for modification. To achieve this, avoid using conditional statements or switch-case structures based on specific types within the class.\n",
    "- Consider using inheritance or interfaces to create a more flexible and extensible design.\n",
    "- Use polymorphism to allow different shapes to implement their specific area calculation logic.\n",
    "- Strive to design classes in a way that new shapes can be added without modifying the existing `Shape` class. This ensures that existing code relying on `Shape` remains unaffected when adding new shapes."
   ]
  },
  {
   "cell_type": "markdown",
   "metadata": {
    "id": "cROG0S90jmQf"
   },
   "source": [
    "## Solution"
   ]
  },
  {
   "cell_type": "code",
   "execution_count": null,
   "metadata": {
    "colab": {
     "base_uri": "https://localhost:8080/"
    },
    "executionInfo": {
     "elapsed": 7,
     "status": "ok",
     "timestamp": 1689878783894,
     "user": {
      "displayName": "Andrei noguera gil",
      "userId": "00676865675105879181"
     },
     "user_tz": 360
    },
    "id": "n3c9Q929jgQW",
    "outputId": "0e7b84ff-c416-42e0-81a4-f337d802ca4d"
   },
   "outputs": [],
   "source": []
  },
  {
   "cell_type": "markdown",
   "metadata": {
    "id": "NnOt_MossR2X"
   },
   "source": [
    "___\n",
    "# <font color='#ee6c4d'>**Open-Closed Principle: Payment Processor**</font>\n",
    "\n",
    "## Context:\n",
    "\n",
    "In a payment processing system, there is a class called `PaymentProcessor` that handles payments for various payment methods, such as credit cards and PayPal. The current implementation violates the Open-Closed Principle (OCP) because the `PaymentProcessor` class is not designed to be easily extensible to add new payment methods without modifying its existing code.\n",
    "\n",
    "<br>\n",
    "\n",
    "# Instruction:\n",
    "\n",
    "Refactor the `PaymentProcessor` class to adhere to the Open-Closed Principle by making it open for extension to add new payment methods without modifying its existing code.\n",
    "\n",
    "<br>\n",
    "\n",
    "```python\n",
    "class PaymentProcessor:\n",
    "    def __init__(self):\n",
    "        self.payment_methods = []\n",
    "\n",
    "    def add_payment_method(self, payment_method):\n",
    "        self.payment_methods.append(payment_method)\n",
    "\n",
    "    def process_payment(self, amount, payment_method):\n",
    "        if payment_method == \"credit_card\":\n",
    "            # Code to process payment via credit card\n",
    "            pass\n",
    "        elif payment_method == \"paypal\":\n",
    "            # Code to process payment via PayPal\n",
    "            pass\n",
    "        else:\n",
    "            raise ValueError(\"Invalid payment method.\")\n",
    "```\n",
    "\n",
    "<br>\n",
    "\n",
    "# Hints:\n",
    "\n",
    "- The Open-Closed Principle suggests that classes should be open for extension but closed for modification. To achieve this, avoid using conditional statements or switch-case structures based on specific types within the class.\n",
    "- Consider using polymorphism and inheritance to create a more flexible and extensible design.\n",
    "- Use abstraction to define a common interface for payment methods, allowing new payment methods to be added without modifying existing code.\n",
    "- Strive to design classes in a way that new payment methods can be added to the system without modifying the `PaymentProcessor` class, promoting a more modular and maintainable codebase."
   ]
  },
  {
   "cell_type": "markdown",
   "metadata": {
    "id": "ML-CydWqw8iv"
   },
   "source": [
    "## Solution"
   ]
  },
  {
   "cell_type": "code",
   "execution_count": null,
   "metadata": {
    "colab": {
     "base_uri": "https://localhost:8080/"
    },
    "executionInfo": {
     "elapsed": 165,
     "status": "ok",
     "timestamp": 1689886491715,
     "user": {
      "displayName": "Andrei noguera gil",
      "userId": "00676865675105879181"
     },
     "user_tz": 360
    },
    "id": "W5LK7Axfw8iz",
    "outputId": "7abe5ab1-03bd-4ce9-f2a4-a900bf6c27fd"
   },
   "outputs": [],
   "source": []
  },
  {
   "cell_type": "markdown",
   "metadata": {
    "id": "v2yPm9jixZeC"
   },
   "source": [
    "___\n",
    "# <font color='#ee6c4d'>**Liskov Substitution Principle: Vehicle Hierarchy**</font>\n",
    "\n",
    "## Context:\n",
    "\n",
    "In a vehicle management system, there is a class hierarchy that represents various types of vehicles, such as cars and motorcycles. The current implementation violates the Liskov Substitution Principle (LSP) because the subclass `Motorcycle` does not behave as expected when used in place of the superclass `Vehicle`.\n",
    "\n",
    "<br>\n",
    "\n",
    "## Instruction:\n",
    "\n",
    "Refactor the `Vehicle` class hierarchy to adhere to the Liskov Substitution Principle by ensuring that subclasses behave as expected when used in place of the superclass.\n",
    "\n",
    "<br>\n",
    "\n",
    "```python\n",
    "class Vehicle:\n",
    "    def __init__(self, brand, model):\n",
    "        self.brand = brand\n",
    "        self.model = model\n",
    "\n",
    "    def start_engine(self):\n",
    "        pass\n",
    "\n",
    "class Car(Vehicle):\n",
    "    def start_engine(self):\n",
    "        print(f\"{self.brand} {self.model} engine started.\")\n",
    "\n",
    "class Motorcycle(Vehicle):\n",
    "    pass\n",
    "\n",
    "def start_vehicle(vehicle):\n",
    "    vehicle.start_engine()\n",
    "\n",
    "# Usage\n",
    "car = Car(\"Toyota\", \"Corolla\")\n",
    "motorcycle = Motorcycle(\"Harley-Davidson\", \"Sportster\")\n",
    "\n",
    "start_vehicle(car)         # Output: Toyota Corolla engine started.\n",
    "start_vehicle(motorcycle)  # Output: No output (Violation of Liskov Substitution Principle)\n",
    "```\n",
    "\n",
    "Tips or Hints:\n",
    "- The Liskov Substitution Principle states that objects of a superclass should be replaceable with objects of its subclasses without affecting the correctness of the program.\n",
    "- Subclasses should behave as expected when used in place of the superclass. In this case, the `Motorcycle` subclass does not implement the `start_engine` method, violating the LSP.\n",
    "- To adhere to the LSP, ensure that all subclasses provide necessary implementations for all methods defined in the superclass.\n",
    "- Strive to design class hierarchies in a way that promotes substitutability and ensures that derived classes can be used interchangeably with the base class, without causing unexpected behavior."
   ]
  },
  {
   "cell_type": "markdown",
   "metadata": {
    "id": "Co3GlWhbCNXz"
   },
   "source": [
    "## Solution"
   ]
  },
  {
   "cell_type": "code",
   "execution_count": null,
   "metadata": {
    "colab": {
     "base_uri": "https://localhost:8080/"
    },
    "executionInfo": {
     "elapsed": 151,
     "status": "ok",
     "timestamp": 1689886486936,
     "user": {
      "displayName": "Andrei noguera gil",
      "userId": "00676865675105879181"
     },
     "user_tz": 360
    },
    "id": "C0zmNjXsCNX3",
    "outputId": "d2af588d-ca41-4438-e92c-49392b935766"
   },
   "outputs": [],
   "source": []
  },
  {
   "cell_type": "markdown",
   "metadata": {
    "id": "ZRAmC9U8DNdd"
   },
   "source": [
    "___\n",
    "# <font color='#ee6c4d'>**Liskov Substitution Principle: Zoo Animal Hierarchy**</font>\n",
    "\n",
    "## Context:\n",
    "\n",
    "In a zoo management system, there is a class hierarchy that represents different types of animals, such as birds and mammals. The current implementation violates the Liskov Substitution Principle (LSP) because the subclass `Ostrich` behaves differently from its superclass `Bird` when calling the `fly()` method, causing unexpected behavior.\n",
    "\n",
    "## Instruction:\n",
    "Refactor the `Bird` class hierarchy to adhere to the Liskov Substitution Principle by introducing two classes: `FlyingBird` and `NoFlyingBird`. Ensure that subclasses behave as expected when used in place of the superclass.\n",
    "\n",
    "<br>\n",
    "\n",
    "```python\n",
    "class Bird:\n",
    "    def fly(self):\n",
    "        pass\n",
    "\n",
    "class Eagle(Bird):\n",
    "    def fly(self):\n",
    "        print(\"Eagle flying high.\")\n",
    "\n",
    "class Ostrich(Bird):\n",
    "    def fly(self):\n",
    "        raise NotImplementedError(\"Ostrich cannot fly.\")\n",
    "\n",
    "def release_bird(bird):\n",
    "    bird.fly()\n",
    "\n",
    "# Usage\n",
    "eagle = Eagle()\n",
    "ostrich = Ostrich()\n",
    "\n",
    "release_bird(eagle)   # Output: Eagle flying high.\n",
    "release_bird(ostrich) # Output: NotImplementedError: Ostrich cannot fly.\n",
    "```\n",
    "\n",
    "<br>\n",
    "\n",
    "## Hints:\n",
    "- The Liskov Substitution Principle states that objects of a superclass should be replaceable with objects of its subclasses without affecting the correctness of the program.\n",
    "- Subclasses should behave as expected when used in place of the superclass. In this case, the `Ostrich` subclass raises an error when trying to fly, violating the LSP.\n",
    "- To adhere to the LSP, ensure that all subclasses provide consistent behavior for methods defined in the superclass.\n",
    "- Strive to design class hierarchies in a way that promotes substitutability and ensures that derived classes can be used interchangeably with the base class, without causing unexpected behavior."
   ]
  },
  {
   "cell_type": "markdown",
   "metadata": {
    "id": "Khr23O_8DNdt"
   },
   "source": [
    "## Solution"
   ]
  },
  {
   "cell_type": "code",
   "execution_count": null,
   "metadata": {
    "colab": {
     "base_uri": "https://localhost:8080/"
    },
    "executionInfo": {
     "elapsed": 163,
     "status": "ok",
     "timestamp": 1689886599924,
     "user": {
      "displayName": "Andrei noguera gil",
      "userId": "00676865675105879181"
     },
     "user_tz": 360
    },
    "id": "kge2Mr8jDNdt",
    "outputId": "93da965f-fdd5-4e18-e168-262d9fb7fd59"
   },
   "outputs": [],
   "source": []
  },
  {
   "cell_type": "markdown",
   "metadata": {
    "id": "1uEPecZcGEq-"
   },
   "source": [
    "___\n",
    "# <font color='#ee6c4d'>**Interface Segregation Principle: Document Processor**</font>\n",
    "\n",
    "## Context:\n",
    "\n",
    "In a document processing application, there is an interface called `DocumentProcessor` that defines methods for processing documents. The current implementation violates the Interface Segregation Principle (ISP) because the interface is too broad and contains methods that are not relevant for all document types.\n",
    "\n",
    "<br>\n",
    "\n",
    "## Instruction:\n",
    "\n",
    "Refactor the `DocumentProcessor` interface to adhere to the Interface Segregation Principle by splitting it into smaller, more specialized interfaces, each representing specific functionality for different types of documents.\n",
    "\n",
    "<br>\n",
    "\n",
    "```python\n",
    "class DocumentProcessor:\n",
    "    def read(self, file_name):\n",
    "        pass\n",
    "\n",
    "    def write(self, file_name, content):\n",
    "        pass\n",
    "\n",
    "    def convert_to_pdf(self, file_name):\n",
    "        pass\n",
    "\n",
    "class WordProcessor(DocumentProcessor):\n",
    "    def read(self, file_name):\n",
    "        print(f\"Reading Word document: {file_name}\")\n",
    "\n",
    "    def write(self, file_name, content):\n",
    "        print(f\"Writing to Word document: {file_name}\")\n",
    "\n",
    "    def convert_to_pdf(self, file_name):\n",
    "        raise NotImplementedError(\"Word documents cannot be directly converted to PDF.\")\n",
    "\n",
    "class PdfProcessor(DocumentProcessor):\n",
    "    def read(self, file_name):\n",
    "        print(f\"Reading PDF document: {file_name}\")\n",
    "\n",
    "    def write(self, file_name, content):\n",
    "        raise NotImplementedError(\"Writing to PDF document is not supported.\")\n",
    "\n",
    "    def convert_to_pdf(self, file_name):\n",
    "        print(f\"Converting {file_name} to PDF.\")\n",
    "```\n",
    "\n",
    "<br>\n",
    "\n",
    "## Hints:\n",
    "- The Interface Segregation Principle suggests that clients should not be forced to depend on interfaces they do not use.\n",
    "- Identify the specific functionalities needed for different document types and split the broad `DocumentProcessor` interface into smaller, more specialized interfaces.\n",
    "- Design interfaces that are cohesive and focused on specific tasks, ensuring that classes implementing the interfaces only need to provide relevant methods.\n",
    "- Strive to create interfaces that promote flexibility and allow clients to depend only on the functionalities they need, promoting a more modular and maintainable codebase."
   ]
  },
  {
   "cell_type": "markdown",
   "metadata": {
    "id": "5ZANsPDKGErM"
   },
   "source": [
    "## Solution"
   ]
  },
  {
   "cell_type": "code",
   "execution_count": null,
   "metadata": {
    "colab": {
     "base_uri": "https://localhost:8080/"
    },
    "executionInfo": {
     "elapsed": 127,
     "status": "ok",
     "timestamp": 1689886979043,
     "user": {
      "displayName": "Andrei noguera gil",
      "userId": "00676865675105879181"
     },
     "user_tz": 360
    },
    "id": "oPlvDDtvGErM",
    "outputId": "b6855572-6ce9-4ffc-b8d5-bf8755c2d58f"
   },
   "outputs": [],
   "source": []
  },
  {
   "cell_type": "markdown",
   "metadata": {
    "id": "K09tUN6jHfZp"
   },
   "source": [
    "___\n",
    "# <font color='#ee6c4d'>**Interface Segregation Principle: Video Streaming System**</font>\n",
    "\n",
    "## Context:\n",
    "In a video streaming system, there is an interface called `VideoProcessor` that defines methods for processing and streaming videos. The current implementation violates the Interface Segregation Principle (ISP) because the interface is too generic and contains methods that are not relevant for all video processing tasks.\n",
    "\n",
    "<br>\n",
    "\n",
    "## Instruction:\n",
    "\n",
    "Refactor the `VideoProcessor` interface to adhere to the Interface Segregation Principle by splitting it into smaller, more specialized interfaces, each representing specific functionality for different video processing tasks.\n",
    "\n",
    "<br>\n",
    "\n",
    "```python\n",
    "from abc import ABC, abstractmethod\n",
    "\n",
    "# Generic VideoProcessor interface\n",
    "class VideoProcessor(ABC):\n",
    "    @abstractmethod\n",
    "    def process_video(self, video_path):\n",
    "        pass\n",
    "\n",
    "    @abstractmethod\n",
    "    def encode_video(self, video_path):\n",
    "        pass\n",
    "\n",
    "    @abstractmethod\n",
    "    def stream_video(self, video_path, stream_url):\n",
    "        pass\n",
    "\n",
    "# Video editing class\n",
    "class VideoEditor(VideoProcessor):\n",
    "    def process_video(self, video_path):\n",
    "        print(f\"Processing video: {video_path}\")\n",
    "\n",
    "    def encode_video(self, video_path):\n",
    "        print(f\"Encoding video: {video_path}\")\n",
    "\n",
    "    def stream_video(self, video_path, stream_url):\n",
    "        print(f\"Streaming video: {video_path} to {stream_url}\")\n",
    "\n",
    "# Video playback class\n",
    "class VideoPlayer(VideoProcessor):\n",
    "    def process_video(self, video_path):\n",
    "        print(\"This method is not used in VideoPlayer.\")\n",
    "\n",
    "    def encode_video(self, video_path):\n",
    "        print(\"This method is not used in VideoPlayer.\")\n",
    "\n",
    "    def stream_video(self, video_path, stream_url):\n",
    "        print(f\"Streaming video: {video_path} to {stream_url}\")\n",
    "\n",
    "```\n",
    "\n",
    "<br>\n",
    "\n",
    "## Hints:\n",
    "- The Interface Segregation Principle suggests that clients should not be forced to depend on interfaces they do not use.\n",
    "- Identify the specific functionalities needed for different video processing tasks and split the broad `VideoProcessor` interface into smaller, more specialized interfaces.\n",
    "- Design interfaces that are cohesive and focused on specific tasks, ensuring that classes implementing the interfaces only need to provide relevant methods.\n",
    "- Strive to create interfaces that promote flexibility and allow clients to depend only on the functionalities they need, promoting a more modular and maintainable codebase.\n",
    "- In this challenge, the `VideoPlayer` class implements methods that are not used for video playback, leading to unnecessary dependencies and violating the Interface Segregation Principle."
   ]
  },
  {
   "cell_type": "markdown",
   "metadata": {
    "id": "SCqNP6tAHfZ4"
   },
   "source": [
    "## Solution"
   ]
  },
  {
   "cell_type": "code",
   "execution_count": null,
   "metadata": {
    "colab": {
     "base_uri": "https://localhost:8080/"
    },
    "executionInfo": {
     "elapsed": 148,
     "status": "ok",
     "timestamp": 1689887283505,
     "user": {
      "displayName": "Andrei noguera gil",
      "userId": "00676865675105879181"
     },
     "user_tz": 360
    },
    "id": "ckwe_r4eHfZ4",
    "outputId": "71327483-c878-434a-d896-e31cfd3f8664"
   },
   "outputs": [],
   "source": []
  },
  {
   "cell_type": "markdown",
   "metadata": {
    "id": "6eNSV0UeJIg7"
   },
   "source": [
    "___\n",
    "# <font color='#ee6c4d'>**Dependency Inversion Principle: E-Commerce Order System**</font>\n",
    "\n",
    "## Context:\n",
    "\n",
    "In an e-commerce order system, there is a class called `OrderManager` that is responsible for processing and managing orders. The current implementation violates the Dependency Inversion Principle (DIP) because it directly depends on a concrete payment gateway class instead of an abstraction.\n",
    "\n",
    "<br>\n",
    "\n",
    "## Instruction:\n",
    "\n",
    "Refactor the `OrderManager` class to adhere to the Dependency Inversion Principle by introducing an abstraction for the payment gateway and using dependency injection to decouple it from the concrete implementation.\n",
    "\n",
    "<br>\n",
    "\n",
    "```python\n",
    "# Concrete payment gateway class\n",
    "class PaymentGateway:\n",
    "    def process_payment(self, amount):\n",
    "        # Code to process payment\n",
    "        pass\n",
    "\n",
    "# OrderManager class violating the DIP\n",
    "class OrderManager:\n",
    "    def __init__(self):\n",
    "        self.payment_gateway = PaymentGateway()\n",
    "\n",
    "    def process_order(self, order_total):\n",
    "        # Code to process order\n",
    "        self.payment_gateway.process_payment(order_total)\n",
    "        # Code to update order status\n",
    "```\n",
    "\n",
    "<br>\n",
    "\n",
    "## Hints:\n",
    "\n",
    "- The Dependency Inversion Principle suggests that high-level modules should not depend on low-level modules. Both should depend on abstractions.\n",
    "- Introduce an abstraction (interface or abstract class) for the payment gateway and use dependency injection to provide the concrete implementation to the `OrderManager`.\n",
    "- By decoupling the `OrderManager` from the concrete payment gateway, you can easily switch to different payment gateways without modifying the `OrderManager` class.\n",
    "- Strive to design classes that are more flexible and extensible by depending on abstractions rather than concrete implementations, promoting better modularity and maintainability."
   ]
  },
  {
   "cell_type": "markdown",
   "metadata": {
    "id": "cRLTKkN3JIhH"
   },
   "source": [
    "## Solution"
   ]
  },
  {
   "cell_type": "code",
   "execution_count": null,
   "metadata": {
    "colab": {
     "base_uri": "https://localhost:8080/"
    },
    "executionInfo": {
     "elapsed": 180,
     "status": "ok",
     "timestamp": 1689887699615,
     "user": {
      "displayName": "Andrei noguera gil",
      "userId": "00676865675105879181"
     },
     "user_tz": 360
    },
    "id": "2jznj2V-JIhI",
    "outputId": "5c468a78-f152-4acf-c4a4-e533a8eb0a79"
   },
   "outputs": [],
   "source": []
  },
  {
   "cell_type": "markdown",
   "metadata": {
    "id": "1uV4BiR6KXCn"
   },
   "source": [
    "___\n",
    "# <font color='#ee6c4d'>**Dependency Inversion Principle: Social Media Notification System**</font>\n",
    "\n",
    "## Context:\n",
    "\n",
    "In a social media notification system, there is a class called `NotificationManager` that is responsible for sending notifications to users. The current implementation violates the Dependency Inversion Principle (DIP) because it directly depends on concrete notification services instead of abstractions.\n",
    "\n",
    "<br>\n",
    "\n",
    "## Instruction:\n",
    "Refactor the `NotificationManager` class to adhere to the Dependency Inversion Principle by introducing an abstraction for the notification services and using dependency injection to decouple it from the concrete implementations.\n",
    "\n",
    "<br>\n",
    "\n",
    "```python\n",
    "# Concrete EmailNotificationService class\n",
    "class EmailNotificationService:\n",
    "    def send_email_notification(self, user_id, message):\n",
    "        # Code to send email notification\n",
    "        pass\n",
    "\n",
    "# Concrete PushNotificationService class\n",
    "class PushNotificationService:\n",
    "    def send_push_notification(self, user_id, message):\n",
    "        # Code to send push notification\n",
    "        pass\n",
    "\n",
    "# NotificationManager class violating the DIP\n",
    "class NotificationManager:\n",
    "    def __init__(self):\n",
    "        self.email_notification_service = EmailNotificationService()\n",
    "        self.push_notification_service = PushNotificationService()\n",
    "\n",
    "    def send_notifications(self, user_id, message):\n",
    "        # Code to process notification preferences\n",
    "        # ...\n",
    "        self.email_notification_service.send_email_notification(user_id, message)\n",
    "        self.push_notification_service.send_push_notification(user_id, message)\n",
    "        # Code to handle other notification types\n",
    "```\n",
    "\n",
    "<br>\n",
    "\n",
    "## Hints:\n",
    "- The Dependency Inversion Principle suggests that high-level modules should not depend on low-level modules. Both should depend on abstractions.\n",
    "- Introduce an abstraction (interface or abstract class) for the notification services and use dependency injection to provide the concrete implementations to the `NotificationManager`.\n",
    "- By decoupling the `NotificationManager` from the concrete notification services, you can easily switch to different notification services without modifying the `NotificationManager` class.\n",
    "- Strive to design classes that are more flexible and extensible by depending on abstractions rather than concrete implementations, promoting better modularity and maintainability in the social media notification system."
   ]
  },
  {
   "cell_type": "markdown",
   "metadata": {
    "id": "ExYALYHYKXC1"
   },
   "source": [
    "## Solution"
   ]
  },
  {
   "cell_type": "code",
   "execution_count": null,
   "metadata": {
    "colab": {
     "base_uri": "https://localhost:8080/"
    },
    "executionInfo": {
     "elapsed": 147,
     "status": "ok",
     "timestamp": 1689888011048,
     "user": {
      "displayName": "Andrei noguera gil",
      "userId": "00676865675105879181"
     },
     "user_tz": 360
    },
    "id": "hK0kMr8PKXC3",
    "outputId": "7d25cdb9-9224-4ed5-df80-e88002720307"
   },
   "outputs": [],
   "source": []
  }
 ],
 "metadata": {
  "colab": {
   "authorship_tag": "ABX9TyPB9RF0sKdwNTKt5SWtJ3Ep",
   "provenance": [],
   "toc_visible": true
  },
  "kernelspec": {
   "display_name": "Python 3",
   "name": "python3"
  },
  "language_info": {
   "name": "python"
  }
 },
 "nbformat": 4,
 "nbformat_minor": 0
}
